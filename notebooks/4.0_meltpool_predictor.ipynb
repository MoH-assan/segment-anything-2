{
 "cells": [
  {
   "cell_type": "code",
   "execution_count": 24,
   "id": "e5318a85-5bf7-4880-b2b3-15e4db24d796",
   "metadata": {},
   "outputs": [],
   "source": [
    "import os\n",
    "import torch\n",
    "import numpy as np\n",
    "import matplotlib.pyplot as plt\n",
    "from PIL import Image\n",
    "import pandas as pd\n",
    "import torch\n",
    "import json\n",
    "from ops.utils import*\n",
    "from matplotlib.colors import ListedColormap\n",
    "import os\n",
    "import shutil \n",
    "from sam2.automatic_mask_generator import SAM2AutomaticMaskGenerator\n",
    "from sam2.build_sam import build_sam2_video_predictor\n",
    "from tqdm import tqdm"
   ]
  },
  {
   "cell_type": "code",
   "execution_count": 25,
   "id": "279032ed",
   "metadata": {},
   "outputs": [],
   "source": [
    "def show_anns(anns, borders=True):\n",
    "    if len(anns) == 0:\n",
    "        return\n",
    "    sorted_anns = sorted(anns, key=(lambda x: x['area']), reverse=True)\n",
    "    ax = plt.gca()\n",
    "    ax.set_autoscale_on(False)\n",
    "\n",
    "    img = np.ones((sorted_anns[0]['segmentation'].shape[0], sorted_anns[0]['segmentation'].shape[1], 4))\n",
    "    img[:, :, 3] = 0\n",
    "    for ann in sorted_anns:\n",
    "        m = ann['segmentation']\n",
    "        color_mask = np.concatenate([np.random.random(3), [0.5]])\n",
    "        img[m] = color_mask \n",
    "        if borders:\n",
    "            import cv2\n",
    "            contours, _ = cv2.findContours(m.astype(np.uint8), cv2.RETR_EXTERNAL, cv2.CHAIN_APPROX_NONE) \n",
    "            # Try to smooth contours\n",
    "            contours = [cv2.approxPolyDP(contour, epsilon=0.01, closed=True) for contour in contours]\n",
    "            cv2.drawContours(img, contours, -1, (0, 0, 1, 0.4), thickness=1) \n",
    "\n",
    "    ax.imshow(img)\n",
    "    \n",
    "\n",
    "def calculate_centroid_and_distance(masks, image_shape=(512, 640)):\n",
    "    center_x, center_y = image_shape[1] // 2, image_shape[0] // 2  # center of the image\n",
    "    \n",
    "    results = []\n",
    "    min_distance = float('inf')\n",
    "    closest_index = -1\n",
    "    \n",
    "    for index, mask in enumerate(masks):\n",
    "        segmentation = mask['segmentation']\n",
    "        \n",
    "        # Get indices of True values\n",
    "        indices = np.where(segmentation)\n",
    "        if indices[0].size == 0 or indices[1].size == 0:\n",
    "            # No true values in the mask\n",
    "            centroid = (None, None)\n",
    "            distance = None\n",
    "        else:\n",
    "            # Compute centroid\n",
    "            centroid_x = np.mean(indices[1])\n",
    "            centroid_y = np.mean(indices[0])\n",
    "            centroid = (centroid_x, centroid_y)\n",
    "            \n",
    "            # Compute distance from the image center\n",
    "            distance = np.sqrt((centroid_x - center_x) ** 2 + (centroid_y - center_y) ** 2)\n",
    "        \n",
    "            # Check if this mask is the closest one\n",
    "            if distance is not None and distance < min_distance:\n",
    "                min_distance = distance\n",
    "                closest_index = index\n",
    "        \n",
    "        # Store results\n",
    "        results.append({\n",
    "            'centroid': centroid,\n",
    "            'distance_from_center': distance\n",
    "        })\n",
    "        \n",
    "    return results, closest_index"
   ]
  },
  {
   "cell_type": "code",
   "execution_count": 26,
   "id": "08ba49d8-8c22-4eba-a2ab-46eee839287f",
   "metadata": {},
   "outputs": [],
   "source": [
    "# use bfloat16 for the entire notebook\n",
    "torch.autocast(device_type=\"cuda\", dtype=torch.bfloat16).__enter__()\n",
    "\n",
    "if torch.cuda.get_device_properties(0).major >= 8:\n",
    "    # turn on tfloat32 for Ampere GPUs (https://pytorch.org/docs/stable/notes/cuda.html#tensorfloat-32-tf32-on-ampere-devices)\n",
    "    torch.backends.cuda.matmul.allow_tf32 = True\n",
    "    torch.backends.cudnn.allow_tf32 = True"
   ]
  },
  {
   "cell_type": "markdown",
   "id": "ae8e0779-751f-4224-9b04-ed0f0b406500",
   "metadata": {},
   "source": [
    "### Loading the SAM 2 video predictor"
   ]
  },
  {
   "cell_type": "code",
   "execution_count": 27,
   "id": "f5f3245e-b4d6-418b-a42a-a67e0b3b5aec",
   "metadata": {},
   "outputs": [],
   "source": [
    "\n",
    "sam2_checkpoint = \"../checkpoints/sam2_hiera_large.pt\"\n",
    "model_cfg = \"sam2_hiera_l.yaml\"\n",
    "predictor = build_sam2_video_predictor(model_cfg, sam2_checkpoint)"
   ]
  },
  {
   "cell_type": "code",
   "execution_count": 28,
   "id": "b3216c89",
   "metadata": {},
   "outputs": [],
   "source": [
    "_Num_Required_Frames= 300\n",
    "_Num_Masks = 20\n",
    "\n",
    "masks_directory = \"/mnt/md126/users/mohamed/projects/AM/Data/RAW/ByDay/20240712/CRED/20240708_09_00/CREDgt_set_4_v3/CREDgt_set_4/Masks/\"\n",
    "raw_video_dir = \"/mnt/md126/users/mohamed/projects/AM/Data/RAW/ByDay/20240712/CRED/20240708_09_00/20240708_09_00_12072024_113101.raw\"\n",
    "_unique_id='gt4_v3_ew8r3'\n",
    "\n",
    "\n",
    "\n",
    "masks_directory = None\n",
    "raw_video_dir = \"/mnt/md126/users/mohamed/projects/AM/Data/RAW/ByDay/20240610/20240604_11_00/20240604_11_00_10062024_152218.raw\"\n",
    "_unique_id='CIRP_ew8r3_d1'\n",
    "N_Frames=13265\n",
    "Start=18185 \n",
    "End=122585\n",
    "\n",
    "\n",
    "masks_directory = None\n",
    "raw_video_dir = \"/mnt/md126/users/mohamed/projects/AM/Data/RAW/ByDay/20240606/20240604_4_00/20240604_4_00_06062024_140548.raw\"\n",
    "_unique_id='CIRP_ew8r3_d2'\n",
    "N_Frames=126878\n",
    "Start=17599\n",
    "End=120360\n",
    "\n",
    "\n",
    "masks_directory = None\n",
    "raw_video_dir = \"/mnt/md126/users/mohamed/projects/AM/Data/RAW/ByDay/20240610/20240604_14_00/20240604_14_00_10062024_165551.raw\"\n",
    "_unique_id='CIRP_ew8r3_d3'\n",
    "N_Frames=247835\n",
    "Start=33951\n",
    "End=24359\n",
    "\n",
    "skip_rate = (End - Start)//_Num_Required_Frames\n",
    "masks_skip_rate = _Num_Required_Frames//_Num_Masks\n",
    "\n",
    "# Temporary directory to save reordered frames\n",
    "temp_dir = raw_video_dir.replace(\"/Data/RAW/ByDay/\", \"/Data/Processed/Noisy_Pseudo_Masks/\").replace(\".raw\", f\"/{_unique_id}/\")\n",
    "# temp_dir = f\"./videos/{data_set_tag}/\"\n",
    "orginal_dir = f\"{temp_dir}/orginal/\"\n",
    "sam_temp_dir = f\"{temp_dir}/sam/temp/\"\n",
    "sam_results_dir = f\"{temp_dir}/sam/results/\"\n",
    "xinyue_dir = f\"{temp_dir}/xinyue/\"\n",
    "raw_dir = f\"{temp_dir}/raw/\"\n",
    "masks_gt_dir = f\"{temp_dir}/masks_gt/\"\n",
    "\n"
   ]
  },
  {
   "cell_type": "code",
   "execution_count": 29,
   "id": "ef6baac3",
   "metadata": {},
   "outputs": [
    {
     "data": {
      "text/plain": [
       "15"
      ]
     },
     "execution_count": 29,
     "metadata": {},
     "output_type": "execute_result"
    }
   ],
   "source": [
    "masks_skip_rate"
   ]
  },
  {
   "cell_type": "code",
   "execution_count": 30,
   "id": "d2e9ac7b",
   "metadata": {},
   "outputs": [],
   "source": [
    "data_set_tag = f'noisy_unique_id{_unique_id}'\n",
    "if masks_directory is not None:\n",
    "    flood_masks = sort_and_filter_images(masks_directory, \"_c1\")   # Sort and filter the images\n",
    "    voids_masks = sort_and_filter_images(masks_directory, \"_c2\")   # Sort and filter the images\n",
    "    masks_frames = [int(name.split('_f_')[1].split('_')[0]) for name in flood_masks]"
   ]
  },
  {
   "cell_type": "code",
   "execution_count": 31,
   "id": "e3b1c4d1",
   "metadata": {},
   "outputs": [],
   "source": [
    "if masks_directory is not None:\n",
    "    slected_mask_index = 5 # the index is the order of the mask in the list of masks xinyue has labeled.\n",
    "    mask_frame = masks_frames[slected_mask_index] # index based camera frame number\n",
    "    flood_mask_path = flood_masks[slected_mask_index]\n",
    "    voids_mask_path = voids_masks[slected_mask_index]\n",
    "else:\n",
    "    slected_mask_index = None\n"
   ]
  },
  {
   "cell_type": "code",
   "execution_count": 32,
   "id": "f35da654",
   "metadata": {},
   "outputs": [],
   "source": [
    "parameters = {\n",
    "    \"mask_frame_used\": slected_mask_index,\n",
    "    \"model_name\": \"SAM 2\",\n",
    "    \"raw_file_directory\": raw_video_dir,\n",
    "    \"masks_directory\": masks_directory,\n",
    "    \"_Num_Required_Frames\": _Num_Required_Frames,\n",
    "    \"skip_rate\": skip_rate,\n",
    "    \"unique_id\": _unique_id,\n",
    "    \"temp_dir\": temp_dir,\n",
    "    \"orginal_dir\": orginal_dir,\n",
    "    \"sam_temp_dir\": sam_temp_dir,\n",
    "    \"sam_results_dir\": sam_results_dir,\n",
    "    \"xinyue_dir\": xinyue_dir,\n",
    "    'sam2_checkpoint': sam2_checkpoint,\n",
    "    'model_cfg': model_cfg,\n",
    "    '_unique_id':_unique_id,\n",
    "    'N_Frames':N_Frames,\n",
    "    'Start':Start,\n",
    "    'End':End,\n",
    "    'skip_rate':skip_rate,\n",
    "    'masks_skip_rate':masks_skip_rate,\n",
    "    'raw_dir':raw_dir,\n",
    "    '_Num_Masks':_Num_Masks,\n",
    "}"
   ]
  },
  {
   "cell_type": "code",
   "execution_count": 33,
   "id": "66465eab",
   "metadata": {},
   "outputs": [
    {
     "name": "stderr",
     "output_type": "stream",
     "text": [
      "  0%|          | 0/300 [00:00<?, ?it/s]"
     ]
    },
    {
     "name": "stderr",
     "output_type": "stream",
     "text": [
      "100%|██████████| 300/300 [09:43<00:00,  1.94s/it]\n"
     ]
    }
   ],
   "source": [
    "# shutil.rmtree(temp_dir, ignore_errors=True)  # Remove the directory if it already exists\n",
    "shutil.rmtree(sam_temp_dir, ignore_errors=True)\n",
    "os.makedirs(temp_dir, exist_ok=True) \n",
    "os.makedirs(xinyue_dir, exist_ok=True) \n",
    "# os.makedirs(orginal_dir, exist_ok=True) \n",
    "os.makedirs(sam_temp_dir, exist_ok=True)\n",
    "os.makedirs(sam_results_dir, exist_ok=True)\n",
    "os.makedirs(raw_dir, exist_ok=True)\n",
    "os.makedirs(masks_gt_dir, exist_ok=True)\n",
    "\n",
    "# os.makedirs(f\"{sam_results_dir}/masks/\", exist_ok=True) \n",
    "# os.makedirs(f\"{sam_results_dir}/overlay/\", exist_ok=True) \n",
    "dict_of_lists={}\n",
    "dict_of_lists['frames_indices'] = []\n",
    "dict_of_lists['is_gt'] = []\n",
    "dict_of_lists['raw_image_path'] = []\n",
    "dict_of_lists['mask_image_path'] = []\n",
    "counter=1\n",
    "image_meta_data = {'filename_abs': raw_video_dir, 'height': 512, 'width': 640}\n",
    "for i in tqdm(np.arange(Start,End,skip_rate)): # index based camera frame number\n",
    "    is_gt = 0\n",
    "    frame = open_frame_firstlight(image_meta_data, i)\n",
    "    img_array = frame['img']\n",
    "    \n",
    "    dict_of_lists['mask_image_path'].append(f\"NA\")\n",
    "    img = Image.fromarray(img_array)\n",
    "    img = img.convert('L')\n",
    "    # img.save(f\"{orginal_dir}/{i}.jpg\") \n",
    "    img.save(f\"{sam_temp_dir}/{counter}.jpg\") # sam index 1,2,3,4,5,6,7,8,9,10,..........\n",
    "    img.save(f\"{raw_dir}/{counter}.jpg\") # sam index 1,2,3,4,5,6,7,8,9,10,..........\n",
    "    dict_of_lists['frames_indices'].append(i)\n",
    "    if (counter == 1) or (counter% masks_skip_rate == 0):\n",
    "        img.save(f\"{masks_gt_dir}/{counter}.jpg\") # sam index 1,2,3,4,5,6,7,8,9,10,..........\n",
    "        is_gt = 1\n",
    "        dict_of_lists['mask_image_path'].append(f\"{masks_gt_dir}/{counter}.jpg\")\n",
    "    dict_of_lists['is_gt'].append(is_gt)\n",
    "    dict_of_lists['raw_image_path'].append(f\"{raw_dir}/{counter}.jpg\")\n",
    "    \n",
    "    mask_generator = SAM2AutomaticMaskGenerator(predictor)\n",
    "    image = np.array(img.convert(\"RGB\"))\n",
    "    masks = mask_generator.generate(image)\n",
    "    if len(masks) == 0:\n",
    "        mask_img = Image.fromarray(np.zeros((512, 640), dtype=np.uint8))\n",
    "    else:\n",
    "        #centriods,closest_to_center=calculate_centroid_and_distance(masks)\n",
    "        for mask_counter, mask in enumerate(masks):\n",
    "            mask_img = Image.fromarray(mask['segmentation'])\n",
    "            mask_img = mask_img.convert('L')\n",
    "            mask_img.save(f\"{sam_results_dir}/{counter}_{mask_counter}.jpg\")\n",
    "    counter+=1"
   ]
  },
  {
   "cell_type": "code",
   "execution_count": 34,
   "id": "bc99d8f6",
   "metadata": {},
   "outputs": [],
   "source": [
    "data_frame = pd.DataFrame([dict_of_lists['frames_indices'], dict_of_lists['is_gt'],dict_of_lists['raw_image_path'],dict_of_lists['mask_image_path']]).T\n",
    "data_frame.columns = ['Manfacturer_counter', 'is_gt', 'raw_image_path', 'mask_image_path']\n",
    "data_frame['train'] = 0\n",
    "data_frame['test'] = 0\n",
    "data_frame['val'] = 0\n",
    "data_frame['noisy_train'] = 0\n",
    "\n"
   ]
  },
  {
   "cell_type": "code",
   "execution_count": 35,
   "id": "b028870f",
   "metadata": {},
   "outputs": [],
   "source": [
    "labeld_index = data_frame[data_frame['is_gt']==1].index\n"
   ]
  },
  {
   "cell_type": "code",
   "execution_count": 36,
   "id": "138385d1",
   "metadata": {},
   "outputs": [],
   "source": [
    "train_labeld_index = labeld_index[:int(len(labeld_index)*0.5)]\n",
    "val_labeld_index = labeld_index[int(len(labeld_index)*0.5):int(len(labeld_index)*0.75)]\n",
    "test_labeld_index = labeld_index[int(len(labeld_index)*0.75):]\n",
    "train_nosy_index_interval = min(train_labeld_index), max(train_labeld_index)\n",
    "\n"
   ]
  },
  {
   "cell_type": "code",
   "execution_count": 37,
   "id": "edbc37f2",
   "metadata": {},
   "outputs": [
    {
     "name": "stdout",
     "output_type": "stream",
     "text": [
      "Index([0, 14, 29, 44, 59, 74, 89, 104, 119, 134], dtype='int64') Index([149, 164, 179, 194, 209], dtype='int64') Index([224, 239, 254, 269, 284, 299], dtype='int64')\n"
     ]
    }
   ],
   "source": [
    "print(train_labeld_index, val_labeld_index, test_labeld_index)"
   ]
  },
  {
   "cell_type": "code",
   "execution_count": 38,
   "id": "addb89a0",
   "metadata": {},
   "outputs": [],
   "source": [
    "data_frame.loc[train_labeld_index,'train'] = 1 \n",
    "data_frame.loc[val_labeld_index,'val'] = 1 \n",
    "data_frame.loc[test_labeld_index,'test'] = 1\n",
    "data_frame.loc[train_nosy_index_interval[0]:train_nosy_index_interval[1],'noisy_train'] = 1\n"
   ]
  },
  {
   "cell_type": "code",
   "execution_count": 39,
   "id": "309d6c07",
   "metadata": {},
   "outputs": [],
   "source": [
    "data_frame.to_csv(f\"{temp_dir}/data.csv\", index=True, header=True)"
   ]
  },
  {
   "cell_type": "code",
   "execution_count": 40,
   "id": "8a5d1332",
   "metadata": {},
   "outputs": [
    {
     "data": {
      "text/plain": [
       "<matplotlib.legend.Legend at 0x7fd5c80821d0>"
      ]
     },
     "execution_count": 40,
     "metadata": {},
     "output_type": "execute_result"
    },
    {
     "data": {
      "image/png": "[encoded data removed]",
      "text/plain": [
       "<Figure size 640x480 with 1 Axes>"
      ]
     },
     "metadata": {},
     "output_type": "display_data"
    }
   ],
   "source": [
    "fig, ax = plt.subplots()\n",
    "ax.plot(data_frame.index,data_frame['train'], label='groundtruth_labeled_train',marker = 'o', linestyle = '-',markersize=12)\n",
    "ax.plot(data_frame.index,data_frame['val'], label='val',marker = 'o', linestyle = '-')\n",
    "ax.plot(data_frame.index,data_frame['test'], label='testing',marker = 'o', linestyle = '-')\n",
    "ax.plot(data_frame.index,data_frame['noisy_train'], label='noisy_train',marker = '*', linestyle = '-',markersize=5)\n",
    "ax.set_xlabel('Sampled frame order')\n",
    "ax.set_ylabel('Data split')\n",
    "ax.legend()"
   ]
  },
  {
   "cell_type": "code",
   "execution_count": 41,
   "id": "a9062495",
   "metadata": {},
   "outputs": [],
   "source": [
    "# save the dictionary\n",
    "with open(f\"{temp_dir}/parameters.json\", 'w') as json_file:\n",
    "    json.dump(parameters, json_file)"
   ]
  },
  {
   "cell_type": "code",
   "execution_count": 42,
   "id": "8cd4aa5f",
   "metadata": {},
   "outputs": [
    {
     "data": {
      "text/plain": [
       "'/mnt/md126/users/mohamed/projects/AM/Data/Processed/Noisy_Pseudo_Masks/20240610/20240604_14_00/20240604_14_00_10062024_165551/CIRP_ew8r3_d3/'"
      ]
     },
     "execution_count": 42,
     "metadata": {},
     "output_type": "execute_result"
    }
   ],
   "source": [
    "temp_dir"
   ]
  },
  {
   "cell_type": "markdown",
   "id": "997dcb50",
   "metadata": {},
   "source": []
  }
 ],
 "metadata": {
  "kernelspec": {
   "display_name": "Python 3 (ipykernel)",
   "language": "python",
   "name": "python3"
  },
  "language_info": {
   "codemirror_mode": {
    "name": "ipython",
    "version": 3
   },
   "file_extension": ".py",
   "mimetype": "text/x-python",
   "name": "python",
   "nbconvert_exporter": "python",
   "pygments_lexer": "ipython3",
   "version": "3.10.14"
  }
 },
 "nbformat": 4,
 "nbformat_minor": 5
}
